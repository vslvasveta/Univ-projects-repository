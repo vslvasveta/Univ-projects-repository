{
 "cells": [
  {
   "cell_type": "code",
   "execution_count": 1,
   "metadata": {},
   "outputs": [],
   "source": [
    "from utils import *\n",
    "from run_tracking import *\n",
    "import napari\n",
    "import os"
   ]
  },
  {
   "cell_type": "code",
   "execution_count": 2,
   "metadata": {},
   "outputs": [],
   "source": [
    "# path to movie, folder for raw images and folder for edited images\n",
    "path_movie = 'test/movie20191011_094113.mp4'\n",
    "folder_out_raw = 'test/raw'\n",
    "folder_out_rem_backgr = 'test/rem_backgr'\n",
    "\n",
    "for folder in [folder_out_raw, folder_out_rem_backgr]:\n",
    "    if not os.path.exists(folder):\n",
    "        os.mkdir(folder)"
   ]
  },
  {
   "cell_type": "code",
   "execution_count": null,
   "metadata": {},
   "outputs": [],
   "source": [
    "# convert video to images and save as tiff files\n",
    "mp4toimgs(path_movie, folder_out_raw)\n",
    "\n",
    "# remove background and save as gray images\n",
    "remove_background(path_movie, folder_out_rem_backgr)"
   ]
  },
  {
   "cell_type": "code",
   "execution_count": 6,
   "metadata": {},
   "outputs": [],
   "source": [
    "# delete the first few images (because background subtraction is bad)\n",
    "n_del = 5\n",
    "imgs_raw = [file for file in os.listdir(folder_out_raw) if file.endswith(\".tif\")]\n",
    "imgs_rmb = [file for file in os.listdir(folder_out_rem_backgr) if file.endswith(\".tif\")]\n",
    "\n",
    "for i in range(n_del):\n",
    "    os.remove(folder_out_raw + '/' + imgs_raw[i])\n",
    "    os.remove(folder_out_rem_backgr + '/' + imgs_rmb[i])"
   ]
  },
  {
   "cell_type": "code",
   "execution_count": 3,
   "metadata": {},
   "outputs": [
    {
     "name": "stderr",
     "output_type": "stream",
     "text": [
      "100%|██████████| 5/5 [00:03<00:00,  1.26it/s]\n"
     ]
    }
   ],
   "source": [
    "# detect\n",
    "all_detections = detect(folder_out_rem_backgr)\n",
    "det_napari = detections_napari(all_detections)\n",
    "\n",
    "# track\n",
    "tracks, trackabilities, _, _ = track(all_detections, observation_noise=1, transition_noise=10, trackability=False)\n",
    "trs_napari = tracks_napari(tracks)"
   ]
  },
  {
   "cell_type": "code",
   "execution_count": null,
   "metadata": {},
   "outputs": [],
   "source": [
    "# display in napari\n",
    "movie = folder_tifs_to_single_tif(folder_out_raw)\n",
    "viewer = napari.Viewer()\n",
    "#viewer.add_image(movie)\n",
    "viewer.add_points(np.array(det_napari), size=10, face_color='red', name='detections')\n",
    "viewer.add_tracks(np.array(trs_napari), name='tracks')\n",
    "napari.run()"
   ]
  }
 ],
 "metadata": {
  "kernelspec": {
   "display_name": "env-autoflexure",
   "language": "python",
   "name": "python3"
  },
  "language_info": {
   "codemirror_mode": {
    "name": "ipython",
    "version": 3
   },
   "file_extension": ".py",
   "mimetype": "text/x-python",
   "name": "python",
   "nbconvert_exporter": "python",
   "pygments_lexer": "ipython3",
   "version": "3.9.16"
  },
  "orig_nbformat": 4
 },
 "nbformat": 4,
 "nbformat_minor": 2
}
